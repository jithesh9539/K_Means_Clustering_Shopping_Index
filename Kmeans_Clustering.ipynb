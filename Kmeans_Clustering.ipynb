{
  "nbformat": 4,
  "nbformat_minor": 0,
  "metadata": {
    "colab": {
      "name": "Kmeans_Clustering.ipynb",
      "provenance": [],
      "collapsed_sections": [],
      "authorship_tag": "ABX9TyPkOv5sPXjciR6WwZNEa+jD",
      "include_colab_link": true
    },
    "kernelspec": {
      "name": "python3",
      "display_name": "Python 3"
    },
    "language_info": {
      "name": "python"
    }
  },
  "cells": [
    {
      "cell_type": "markdown",
      "metadata": {
        "id": "view-in-github",
        "colab_type": "text"
      },
      "source": [
        "<a href=\"https://colab.research.google.com/github/jithesh9539/K_Means_Clustering_Shopping_Index/blob/main/Kmeans_Clustering.ipynb\" target=\"_parent\"><img src=\"https://colab.research.google.com/assets/colab-badge.svg\" alt=\"Open In Colab\"/></a>"
      ]
    },
    {
      "cell_type": "code",
      "metadata": {
        "id": "OQpCNalcviEK"
      },
      "source": [
        "from sklearn.cluster import KMeans\n",
        "from sklearn import metrics\n",
        "import numpy as np\n",
        "import matplotlib.pyplot as plt"
      ],
      "execution_count": null,
      "outputs": []
    },
    {
      "cell_type": "code",
      "metadata": {
        "id": "7uyjFWrVvl8f"
      },
      "source": [
        "x=np.array([3,3,5,2,4,6,6,6,5,6,7,8,9,8,9,9,8])\n",
        "y=np.array([5,4,6,6,5,8,2,3,6,7,2,5,1,2,6,1,3])"
      ],
      "execution_count": null,
      "outputs": []
    },
    {
      "cell_type": "code",
      "metadata": {
        "colab": {
          "base_uri": "https://localhost:8080/",
          "height": 281
        },
        "id": "8jI0djj6wE-V",
        "outputId": "66518723-7570-48e3-e9a7-337bea41724d"
      },
      "source": [
        "plt.plot()\n",
        "plt.xlim([0, 10])\n",
        "plt.ylim([0, 10])\n",
        "plt.title('Dataset')\n",
        "plt.scatter(x, y)\n",
        "plt.show()"
      ],
      "execution_count": null,
      "outputs": [
        {
          "output_type": "display_data",
          "data": {
            "image/png": "[encoded data removed]",
            "text/plain": [
              "<Figure size 432x288 with 1 Axes>"
            ]
          },
          "metadata": {
            "needs_background": "light"
          }
        }
      ]
    },
    {
      "cell_type": "code",
      "metadata": {
        "colab": {
          "base_uri": "https://localhost:8080/",
          "height": 265
        },
        "id": "9geUwEc_wctK",
        "outputId": "09743018-3d7f-4653-b26d-9d3168f0d761"
      },
      "source": [
        "plt.plot()\n",
        "X = np.array(list(zip(x, y))).reshape(len(x), 2)\n",
        "colors = ['b', 'g', 'r','y']\n",
        "markers = ['o', 'v', 's','+']"
      ],
      "execution_count": null,
      "outputs": [
        {
          "output_type": "display_data",
          "data": {
            "image/png": "[encoded data removed]",
            "text/plain": [
              "<Figure size 432x288 with 1 Axes>"
            ]
          },
          "metadata": {
            "needs_background": "light"
          }
        }
      ]
    },
    {
      "cell_type": "code",
      "metadata": {
        "id": "asXRItEfwoxh"
      },
      "source": [
        "K=2\n",
        "kmeans_model = KMeans(n_clusters=K).fit(X)"
      ],
      "execution_count": null,
      "outputs": []
    },
    {
      "cell_type": "code",
      "metadata": {
        "colab": {
          "base_uri": "https://localhost:8080/",
          "height": 269
        },
        "id": "xgqC_nvpw-p7",
        "outputId": "b85a3bb1-7eb9-4bc7-f5ce-634e385bca97"
      },
      "source": [
        "plt.plot()\n",
        "for i, l in enumerate(kmeans_model.labels_):\n",
        "    plt.plot(x[i], y[i], color=colors[l], marker=markers[l],ls='None')\n",
        "    plt.xlim([0, 10])\n",
        "    plt.ylim([0, 10])\n",
        "\n",
        "plt.show()"
      ],
      "execution_count": null,
      "outputs": [
        {
          "output_type": "display_data",
          "data": {
            "image/png": "[encoded data removed]",
            "text/plain": [
              "<Figure size 432x288 with 1 Axes>"
            ]
          },
          "metadata": {
            "needs_background": "light"
          }
        }
      ]
    },
    {
      "cell_type": "code",
      "metadata": {
        "colab": {
          "base_uri": "https://localhost:8080/",
          "height": 269
        },
        "id": "vW_N-Ib-xGhA",
        "outputId": "8e6b2466-4ce2-44a6-9f61-36575d61437d"
      },
      "source": [
        "K=3\n",
        "kmeans_model = KMeans(n_clusters=K).fit(X)\n",
        "plt.plot()\n",
        "for i, l in enumerate(kmeans_model.labels_):\n",
        "    plt.plot(x[i], y[i], color=colors[l], marker=markers[l],ls='None')\n",
        "    plt.xlim([0, 10])\n",
        "    plt.ylim([0, 10])\n",
        "\n",
        "plt.show()"
      ],
      "execution_count": null,
      "outputs": [
        {
          "output_type": "display_data",
          "data": {
            "image/png": "[encoded data removed]",
            "text/plain": [
              "<Figure size 432x288 with 1 Axes>"
            ]
          },
          "metadata": {
            "needs_background": "light"
          }
        }
      ]
    },
    {
      "cell_type": "code",
      "metadata": {
        "colab": {
          "base_uri": "https://localhost:8080/",
          "height": 269
        },
        "id": "iT9x97BbxPLn",
        "outputId": "43895d73-0050-40de-a7f7-bc4dbc3012d5"
      },
      "source": [
        "K=4\n",
        "kmeans_model = KMeans(n_clusters=K).fit(X)\n",
        "plt.plot()\n",
        "for i, l in enumerate(kmeans_model.labels_):\n",
        "    plt.plot(x[i], y[i], color=colors[l], marker=markers[l],ls='None')\n",
        "    plt.xlim([0, 10])\n",
        "    plt.ylim([0, 10])\n",
        "\n",
        "plt.show()"
      ],
      "execution_count": null,
      "outputs": [
        {
          "output_type": "display_data",
          "data": {
            "image/png": "[encoded data removed]",
            "text/plain": [
              "<Figure size 432x288 with 1 Axes>"
            ]
          },
          "metadata": {
            "needs_background": "light"
          }
        }
      ]
    }
  ]
}